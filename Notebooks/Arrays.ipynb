{
 "cells": [
  {
   "cell_type": "markdown",
   "metadata": {},
   "source": [
    "<div style=\"color:red;background-color:black\">\n",
    "Diamond Light Source\n",
    "<br style=\"color:red;background-color:antiquewhite\"><h1>C Programming: Arrays</h1><br>\n",
    "©2000-21 Chris Seddon \n",
    "</div>"
   ]
  },
  {
   "cell_type": "markdown",
   "metadata": {},
   "source": [
    "## 1. Defining Arrays\n",
    "The following example shows how to declare a local array of integers called `a`.  \n",
    "\n",
    "For an array of `int` we use the format `i` or `d` for printing each element:"
   ]
  },
  {
   "cell_type": "code",
   "execution_count": null,
   "metadata": {},
   "outputs": [],
   "source": [
    "#include <stdio.h>\n",
    "\n",
    "int main()\n",
    "{\n",
    "    int a[5] = {100, 110, 120, 130, 140};\n",
    "    for(int i = 0; i < 5; i++)\n",
    "    {\n",
    "        printf(\"%i, \", a[i]);\n",
    "    }\n",
    "    printf(\"\\n\");\n",
    "}"
   ]
  },
  {
   "cell_type": "markdown",
   "metadata": {},
   "source": [
    "Note that you can let the compiler determine the size of the array:\n",
    "<pre>\n",
    "int a[] = {100, 110, 120, 130, 140};\n",
    "</pre>"
   ]
  },
  {
   "cell_type": "code",
   "execution_count": null,
   "metadata": {},
   "outputs": [],
   "source": [
    "#include <stdio.h>\n",
    "\n",
    "int main()\n",
    "{\n",
    "    int a[] = {100, 110, 120, 130, 140};\n",
    "    for(int i = 0; i < 5; i++)\n",
    "    {\n",
    "        printf(\"%i, \", a[i]);\n",
    "    }\n",
    "    printf(\"\\n\");\n",
    "}"
   ]
  },
  {
   "cell_type": "markdown",
   "metadata": {},
   "source": [
    "We can create arrays of other types such as `double` and `char`.  \n",
    "\n",
    "For an array of `double` we use the format `8.2lf` for printing each element.  The format specifies 8 characters in total (including the decimal point) and 2 decimal places.  `lf` is short for `long float`."
   ]
  },
  {
   "cell_type": "code",
   "execution_count": null,
   "metadata": {},
   "outputs": [],
   "source": [
    "#include <stdio.h>\n",
    "\n",
    "int main()\n",
    "{\n",
    "    double array[] = {100.0, 100.1, 100.2, 100.3, 100.4};\n",
    "    for(int i = 0; i < 5; i++)\n",
    "    {\n",
    "        printf(\"%8.2lf, \", array[i]);\n",
    "    }\n",
    "    printf(\"\\n\");\n",
    "}"
   ]
  },
  {
   "cell_type": "markdown",
   "metadata": {},
   "source": [
    "Global arrays, get filled with whatever is in memory (which may be zero) if not initialised:"
   ]
  },
  {
   "cell_type": "code",
   "execution_count": null,
   "metadata": {},
   "outputs": [],
   "source": [
    "#include <stdio.h>\n",
    "\n",
    "int a[10];        // not initialised\n",
    "\n",
    "int main()\n",
    "{\n",
    "    for(int i = 0; i < 10; i++)\n",
    "    {\n",
    "        printf(\"%i, \", a[i]);\n",
    "    }\n",
    "    printf(\"\\n\");\n",
    "}"
   ]
  },
  {
   "cell_type": "markdown",
   "metadata": {},
   "source": [
    "Local arrays, however, get filled with whatever is in memory (which may be zero) if not initialised:"
   ]
  },
  {
   "cell_type": "code",
   "execution_count": null,
   "metadata": {},
   "outputs": [],
   "source": [
    "#include <stdio.h>\n",
    "\n",
    "\n",
    "int main()\n",
    "{\n",
    "    int a[10];        // not initialised\n",
    "    for(int i = 0; i < 10; i++)\n",
    "    {\n",
    "        printf(\"%i, \", a[i]);\n",
    "    }\n",
    "    printf(\"\\n\");\n",
    "}"
   ]
  },
  {
   "cell_type": "markdown",
   "metadata": {},
   "source": [
    "## 2. Array Assigment (fails)\n",
    "Rather surprisingly, the C standard dictates that partially initialised local arrays, get filled with zero in the uninitialised slots.  \n",
    "\n",
    "Note that we shouldn't be hardcoding array sizes - its better to use the preprocessor:\n",
    "<pre>\n",
    "#define SIZE 10\n",
    "</pre>\n",
    "Preprocessor directives are introduced with a `#` and do not have a terminating `;`"
   ]
  },
  {
   "cell_type": "code",
   "execution_count": null,
   "metadata": {},
   "outputs": [],
   "source": [
    "#include <stdio.h>\n",
    "\n",
    "#define SIZE 10\n",
    "\n",
    "int main()\n",
    "{\n",
    "    int a[SIZE] = {2, 4, 6};  // only partially initialised\n",
    "    for(int i = 0; i < SIZE; i++)\n",
    "    {\n",
    "        printf(\"%i, \", a[i]);\n",
    "    }\n",
    "    printf(\"\\n\");\n",
    "}"
   ]
  },
  {
   "cell_type": "markdown",
   "metadata": {},
   "source": [
    "One feature, often requested, but not part of the C language, is to assign one array to another.\n",
    "\n",
    "The following example shows array assignment <b>fails to compile</b>."
   ]
  },
  {
   "cell_type": "code",
   "execution_count": null,
   "metadata": {},
   "outputs": [],
   "source": [
    "#include <stdio.h>\n",
    "\n",
    "int main()\n",
    "{\n",
    "    int a[] = {2, 4, 6};\n",
    "    int b[] = {1, 3, 5};\n",
    "    b = a;\n",
    "}"
   ]
  },
  {
   "cell_type": "markdown",
   "metadata": {},
   "source": [
    "## 3. char Arrays\n",
    "The language has special support for `char` arrays.  We usual call these arrays \"strings\", but note that the `string` defined in C++ is subtly different, and this nomenclature can cause confusion."
   ]
  },
  {
   "cell_type": "code",
   "execution_count": null,
   "metadata": {},
   "outputs": [],
   "source": [
    "#include <stdio.h>\n",
    "\n",
    "#define SIZE 9\n",
    "\n",
    "int main()\n",
    "{\n",
    "    char s[SIZE] = {'W', 'e', 'd', 'n', 'e', 's', 'd', 'a', 'y'};\n",
    "    for(int i = 0; i < SIZE; i++)\n",
    "    {\n",
    "        printf(\"%c\", s[i]);\n",
    "    }\n",
    "    printf(\"\\n\");\n",
    "    printf(\"Array size = %li\\n\", sizeof(s));\n",
    "}"
   ]
  },
  {
   "cell_type": "markdown",
   "metadata": {},
   "source": [
    "As you can see, declaring a `char` array is very pendantic with all those commas and quotes.  Note you use a single quote `'` to declare a `char`.  \n",
    "\n",
    "Fortunately, C, allows a succinct way of defining a `char` array, using double quotes `\"`:"
   ]
  },
  {
   "cell_type": "code",
   "execution_count": null,
   "metadata": {},
   "outputs": [],
   "source": [
    "#include <stdio.h>\n",
    "\n",
    "#define SIZE 9\n",
    "\n",
    "int main()\n",
    "{\n",
    "    char s[] = \"Wednesday\";\n",
    "    for(int i = 0; i < SIZE; i++)\n",
    "    {\n",
    "        printf(\"%c\", s[i]);\n",
    "    }\n",
    "    printf(\"\\n\");\n",
    "    printf(\"Array size = %li\\n\", sizeof(s));\n",
    "}"
   ]
  },
  {
   "cell_type": "markdown",
   "metadata": {},
   "source": [
    "Notice that our array is now one bigger than before when we use double quotes.  We can check for the extra character by looking at the last character in the array.  It turns out that the character is the <b>null</b> character and its non-printable.  However we can see its [ASCII](http://www.asciitable.com/) representation (value 0) by printing it with integer format:"
   ]
  },
  {
   "cell_type": "code",
   "execution_count": null,
   "metadata": {},
   "outputs": [],
   "source": [
    "#include <stdio.h>\n",
    "\n",
    "int main()\n",
    "{\n",
    "    char s[] = \"Wednesday\";\n",
    "    printf(\"%i\\n\", s[10]);\n",
    "}"
   ]
  },
  {
   "cell_type": "markdown",
   "metadata": {},
   "source": [
    "In fact, you can check the ASCII code of any character in this way.  Lets look at the codes of the alphabet:"
   ]
  },
  {
   "cell_type": "code",
   "execution_count": null,
   "metadata": {},
   "outputs": [],
   "source": [
    "#include <stdio.h>\n",
    "\n",
    "int main()\n",
    "{\n",
    "    for(int c = 'A'; c < 'A'+26; c++)\n",
    "    {\n",
    "        printf(\"%c has ASCII code %i\\n\", c, c);\n",
    "    }\n",
    "}"
   ]
  },
  {
   "cell_type": "markdown",
   "metadata": {},
   "source": [
    "## 4. Library Routines for char Arrays\n",
    "Back to `char` arrays.\n",
    "\n",
    "The idea behind the null character (often called the null terminator) is that strings never normally contain this character, so it can be used to determine the end of he array.  This saves us having to work out how big our `char` array is.\n",
    "\n",
    "Furthermore, if you peek ahead to the tutorial on \"Pointers and Arrays\" you'll see that if we pass an array to a function, the function just receives a pointer to the start of the array and has no way of determining the array's length.\n",
    "\n",
    "However, with `char` arrays, this doesn't matter because of the null terminator.  Many of the C library functions make use of this feature.\n",
    "\n",
    "Recall, C doesn't allow array assignment.  However the C library provides `strcpy` to copy `char` arrays at run-time."
   ]
  },
  {
   "cell_type": "code",
   "execution_count": null,
   "metadata": {},
   "outputs": [],
   "source": [
    "#include <stdio.h>\n",
    "#include <string.h>    // for strcpy\n",
    "\n",
    "int main()\n",
    "{\n",
    "    char s[] = \"Monday\";\n",
    "    char t[10];\n",
    "    strcpy(t, s);     // effectively t = s\n",
    "    printf(\"%s\\n\", t);\n",
    "}"
   ]
  },
  {
   "cell_type": "markdown",
   "metadata": {},
   "source": [
    "Note that the target array `t` in the above example has to be declared large enough to receive the characters from `s`.  Failure to do so will corrupt memory and probably cause the program to crash.\n",
    "\n",
    "Let's try re-running the above with `t` declared too small:"
   ]
  },
  {
   "cell_type": "code",
   "execution_count": null,
   "metadata": {},
   "outputs": [],
   "source": [
    "#include <stdio.h>\n",
    "#include <string.h>    // for strcpy\n",
    "\n",
    "int main()\n",
    "{\n",
    "    char t[3];\n",
    "    char s[] = \"Monday\";\n",
    "    strcpy(t, s);\n",
    "    printf(\"%s\\n\", t);\n",
    "    printf(\"%s\\n\", s);\n",
    "    \n",
    "    for(int i = 0; i < 7; i++)\n",
    "    {\n",
    "        printf(\"s[%i]=%i\\n\", i, s[i]);\n",
    "    }\n",
    "}"
   ]
  },
  {
   "cell_type": "markdown",
   "metadata": {},
   "source": [
    "Well, the program didn't crash.  But what did happen was that as the characters were copied to `t`, that array filled up after 3 characters.  After that, the characters were written to the memory at the end of the array and this is where `s` is stored.  So the remaining characters were copied to the start of the array `s`.\n",
    "\n",
    "Note that `printf` only prints the characters in a string up to the null terminator.  The copying put a null terminator in array position `s[3]`, so the remaing characters didn't show up (but you can see that they are still there).\n",
    "\n",
    "There are several other library functions that operate on C strings.\n",
    "\n",
    "Note the `strlen`"
   ]
  },
  {
   "cell_type": "code",
   "execution_count": null,
   "metadata": {},
   "outputs": [],
   "source": [
    "#include <stdio.h>\n",
    "#include <string.h>    // for strcpy, strcat, strlen\n",
    "\n",
    "int main()\n",
    "{\n",
    "    char s1[] = \"Hello\";\n",
    "    char s2[] = \"World\";\n",
    "    char t[20];\n",
    "    \n",
    "    // copy a C string\n",
    "    strcpy(t, s1);    // t = s1\n",
    "    printf(\"%s\\n\", t);\n",
    "\n",
    "    // concatenate C strings\n",
    "    strcpy(t, s1);    // t = s1\n",
    "    strcat(t, s2);    // t =    + s2\n",
    "    printf(\"%s\\n\", t);\n",
    "\n",
    "    // find length of a C string\n",
    "    printf(\"%li\", strlen(t));\n",
    "}"
   ]
  }
 ],
 "metadata": {
  "kernelspec": {
   "display_name": "C",
   "language": "c",
   "name": "c"
  },
  "language_info": {
   "file_extension": ".c",
   "mimetype": "text/plain",
   "name": "c"
  }
 },
 "nbformat": 4,
 "nbformat_minor": 2
}
