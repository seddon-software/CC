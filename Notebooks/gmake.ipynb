{
 "cells": [
  {
   "cell_type": "markdown",
   "metadata": {},
   "source": [
    "<div style=\"color:red;background-color:black\">\n",
    "Diamond Light Source\n",
    "<br style=\"color:red;background-color:antiquewhite\"><h1>C Programming: gmake</h1><br>\n",
    "©2000-21 Chris Seddon \n",
    "</div>"
   ]
  },
  {
   "cell_type": "markdown",
   "metadata": {},
   "source": [
    "Consider the following set of C files:\n",
    "<pre>\n",
    "f1.c\n",
    "f2.c\n",
    "f3.c\n",
    "f_main.c\n",
    "</pre>\n",
    "\n",
    "Let's take a look at the source:"
   ]
  },
  {
   "cell_type": "code",
   "execution_count": null,
   "metadata": {},
   "outputs": [],
   "source": [
    "cd Makefiles\n",
    "find -name '*.c' -exec cat {} \\;"
   ]
  },
  {
   "cell_type": "markdown",
   "metadata": {},
   "source": [
    "To compile the above files and produce a set of object files we need to:"
   ]
  },
  {
   "cell_type": "code",
   "execution_count": null,
   "metadata": {},
   "outputs": [],
   "source": [
    "gcc -c f1.c\n",
    "gcc -c f2.c\n",
    "gcc -c f3.c\n",
    "gcc -c f_main.c\n",
    "ls -l *.o"
   ]
  },
  {
   "cell_type": "markdown",
   "metadata": {},
   "source": [
    "To complete the link and produce an executable:"
   ]
  },
  {
   "cell_type": "code",
   "execution_count": null,
   "metadata": {},
   "outputs": [],
   "source": [
    "gcc f1.o f2.o f3.o f_main.o -o f_main.exe"
   ]
  },
  {
   "cell_type": "markdown",
   "metadata": {},
   "source": [
    "Let's check it worked:"
   ]
  },
  {
   "cell_type": "code",
   "execution_count": null,
   "metadata": {},
   "outputs": [],
   "source": [
    "f_main.exe"
   ]
  },
  {
   "cell_type": "markdown",
   "metadata": {},
   "source": [
    "The `gmake` utility defines a file called `Makefile` which is a recipe for creating the `main.exe` executable.  A makefile consists of a set of targets and rules:\n",
    "\n",
    "In the above, each file we created is called a <b>target</b>.  The following targets were created:\n",
    "<pre>\n",
    "f1.o\n",
    "f2.o\n",
    "f3.o\n",
    "f_main.o\n",
    "main.exe\n",
    "</pre>\n",
    "\n",
    "Each of the above commands is called a <b>rule</b> in `gmake`.  The following rules were defined:\n",
    "<pre>\n",
    "gcc -c f1.c\n",
    "gcc -c f2.c\n",
    "gcc -c f3.c\n",
    "gcc -c f_main.c\n",
    "gcc f1.o f2.o f3.o f_main.o -o main.exe\n",
    "</pre>\n",
    "\n",
    "Lets look at the Makefile.  I've pre-prepared a several interim makefiles for this tutorial:\n",
    "<pre>\n",
    "Makefile.&lt;n&gt;\n",
    "</pre>\n",
    "so as I can easily change our makefile."
   ]
  },
  {
   "cell_type": "code",
   "execution_count": null,
   "metadata": {},
   "outputs": [],
   "source": [
    "cp Makefile.1 Makefile\n",
    "cat Makefile"
   ]
  },
  {
   "cell_type": "markdown",
   "metadata": {},
   "source": [
    "The makefile consists of a set of targets and the rules to create each target.  The rules are in reverse temporal order.  \n",
    "\n",
    "After each target, there is a list of its dependencies.  For example:\n",
    "<pre>\n",
    "f1.o: f1.c f.h\n",
    "</pre>\n",
    "which states that `f1.o` is dependent on `f1.c` and `f1.h`.  This means if we change `f1.c` or `f.h` we need to rebuild `f1.o`.\n",
    "\n",
    "We can use the makefile to rebuild the `f_main.exe` target by issuing the command:"
   ]
  },
  {
   "cell_type": "code",
   "execution_count": null,
   "metadata": {},
   "outputs": [],
   "source": [
    "make"
   ]
  },
  {
   "cell_type": "markdown",
   "metadata": {},
   "source": [
    "`gmake` has nothing to do because the target is already built.  \n",
    "\n",
    "By default, `gmake` tries to build the first target defined in the makefile (`f_main.exe`).  To get `gmake` to build this target we need to first delete all the targets and then rerun `make`."
   ]
  },
  {
   "cell_type": "code",
   "execution_count": null,
   "metadata": {},
   "outputs": [],
   "source": [
    "rm *.o *.exe\n",
    "make\n",
    "ls -l f_main.exe"
   ]
  },
  {
   "cell_type": "markdown",
   "metadata": {},
   "source": [
    "Actually we can define a rule to remove the targets (usually called `clean`).  Its convenient to supress error messages on this target.\n",
    "\n",
    "The new makefile now reads:"
   ]
  },
  {
   "cell_type": "code",
   "execution_count": null,
   "metadata": {},
   "outputs": [],
   "source": [
    "cp Makefile.2 Makefile\n",
    "cat Makefile"
   ]
  },
  {
   "cell_type": "markdown",
   "metadata": {},
   "source": [
    "The hyphen in front of `rm` stops `gmake` complaining in case of error and the `@` stops `gmake` from echoing the rule. \n",
    "\n",
    "To invoke the new target (`clean`), as its not the default (first) target, we need to specify it explicitly: "
   ]
  },
  {
   "cell_type": "code",
   "execution_count": null,
   "metadata": {},
   "outputs": [],
   "source": [
    "make clean\n",
    "ls -l f*"
   ]
  },
  {
   "cell_type": "markdown",
   "metadata": {},
   "source": [
    "`gmake` can be invoked with the `-n` option.  This is useful because it does a dry run.  It doesn't execute the rules, it merely prints the rules that will be invoked.  The other useful command I want to mention is `touch`.  `touch` updates the timestamp on a file.  This allows us to simulate changing a file without actually needing to edit the file.  `gmake` uses these timestamps to decide whether to rebuld a target.  \n",
    "\n",
    "Consider:\n",
    "<pre>\n",
    "f1.o: f1.c f.h\n",
    "</pre>\n",
    "`gmake` will compare the timestamps of these 3 files.  If the target `f1.o` is not the oldest of the 3, then one of the dependencies has been edited and the target needs to be rebuilt.  \n",
    "\n",
    "Let's try a few experiments;  try `touch`ing different files and then running `gmake`.\n",
    "We run make silently to start each experiment:"
   ]
  },
  {
   "cell_type": "markdown",
   "metadata": {},
   "source": [
    "`f1.o` depends on `f1.c`, so let's try touching `f1.c`"
   ]
  },
  {
   "cell_type": "code",
   "execution_count": null,
   "metadata": {},
   "outputs": [],
   "source": [
    "make --silent\n",
    "touch f1.c\n",
    "make -n"
   ]
  },
  {
   "cell_type": "markdown",
   "metadata": {},
   "source": [
    "So this means `f1.o` needs to rebuilt.  However, this will now make `f_main.exe` out of date, so this gets rebuilt as well.  Its usual for a rebuild of one target to trigger a rebuild of other targets.\n",
    "\n",
    "Let's try something else:"
   ]
  },
  {
   "cell_type": "code",
   "execution_count": null,
   "metadata": {},
   "outputs": [],
   "source": [
    "make --silent\n",
    "touch f.h\n",
    "make -n"
   ]
  },
  {
   "cell_type": "markdown",
   "metadata": {},
   "source": [
    "Everything depends directly or indirectly on `f.h`, so touching this file rebuilds everything."
   ]
  },
  {
   "cell_type": "code",
   "execution_count": null,
   "metadata": {},
   "outputs": [],
   "source": [
    "make --silent\n",
    "touch f2.o\n",
    "make -n"
   ]
  },
  {
   "cell_type": "markdown",
   "metadata": {},
   "source": [
    "Only the `f_main.exe` target depends on `f2.o`, so only this target gets rebuilt."
   ]
  },
  {
   "cell_type": "markdown",
   "metadata": {},
   "source": [
    "We can build individual targets by explictly naming them:"
   ]
  },
  {
   "cell_type": "code",
   "execution_count": null,
   "metadata": {},
   "outputs": [],
   "source": [
    "make clean\n",
    "make f1.o"
   ]
  },
  {
   "cell_type": "markdown",
   "metadata": {},
   "source": [
    "Now we can build `f2.o`:"
   ]
  },
  {
   "cell_type": "code",
   "execution_count": null,
   "metadata": {},
   "outputs": [],
   "source": [
    "make f2.o"
   ]
  },
  {
   "cell_type": "markdown",
   "metadata": {},
   "source": [
    "So that's a basic makefile.  However, there is a lot of repetition in our makefile, so `gmake` defines a number of features to make things more concise.  \n",
    "\n",
    "Let's look at an enhanced version of the makefile: "
   ]
  },
  {
   "cell_type": "code",
   "execution_count": null,
   "metadata": {},
   "outputs": [],
   "source": [
    "cp Makefile.3 Makefile\n",
    "cat Makefile"
   ]
  },
  {
   "cell_type": "markdown",
   "metadata": {},
   "source": [
    "We can use % as a wildcard to avoid repeating filenames.  The line:\n",
    "<pre>\n",
    "%.o: %c\n",
    "</pre>\n",
    "can be used instead of\n",
    "<pre>\n",
    "f1.o: f1.c\n",
    "f2.o: f2.c\n",
    "f3.o: f3.c\n",
    "f_main.o: f_main.c\n",
    "</pre>\n",
    "Note that the macro `$<` represents the dependent file represented by `%.c`.  Hence for the case of f3 we have:\n",
    "<pre>\n",
    "%.c = f3.c\n",
    "%.o = f3.o\n",
    "$< = f3.c\n",
    "</pre>\n"
   ]
  },
  {
   "cell_type": "code",
   "execution_count": null,
   "metadata": {},
   "outputs": [],
   "source": [
    "make clean\n",
    "make"
   ]
  },
  {
   "cell_type": "markdown",
   "metadata": {},
   "source": [
    "There is a lot more to `gmake` than the above, but you should now have a basic understanding.  \n",
    "\n",
    "Take a look at the <a href=\"https://www.gnu.org/software/make/manual/\">`gmake` manual online</a>."
   ]
  }
 ],
 "metadata": {
  "kernelspec": {
   "display_name": "Bash",
   "language": "bash",
   "name": "bash"
  },
  "language_info": {
   "codemirror_mode": "shell",
   "file_extension": ".sh",
   "mimetype": "text/x-sh",
   "name": "bash"
  }
 },
 "nbformat": 4,
 "nbformat_minor": 4
}
