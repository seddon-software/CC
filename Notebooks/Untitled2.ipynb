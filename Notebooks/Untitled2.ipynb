{
 "cells": [
  {
   "cell_type": "code",
   "execution_count": null,
   "metadata": {},
   "outputs": [],
   "source": [
    "set -v\n",
    "# create a static library called 'libf1.a'\n",
    "# by first compiling 'f1.c' using the -c option of gcc\n",
    "# and then using 'ar' to make a library archive\n",
    "cd mylib\n",
    "gcc -c f1.c\n",
    "ar -cvr libf1.a f1.o\n",
    "ar -t libf1.a\n",
    "\n",
    "# complete the static linking by specifying:\n",
    "#   which directory contains the library: -L ../mylib\n",
    "#   the name of the library: -l f1\n",
    "# note all library names are of the form libxxx.a, but you only specify the xxx part\n",
    "cd ../src\n",
    "gcc -static f_main.c f2.c f3.c -L ../mylib -l f1 -o f.exe\n",
    "f.exe"
   ]
  }
 ],
 "metadata": {
  "kernelspec": {
   "display_name": "Bash",
   "language": "bash",
   "name": "bash"
  },
  "language_info": {
   "codemirror_mode": "shell",
   "file_extension": ".sh",
   "mimetype": "text/x-sh",
   "name": "bash"
  }
 },
 "nbformat": 4,
 "nbformat_minor": 2
}
