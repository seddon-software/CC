{
 "cells": [
  {
   "cell_type": "markdown",
   "metadata": {},
   "source": [
    "<div style=\"color:red;background-color:black\">\n",
    "Diamond Light Source\n",
    "<br style=\"color:red;background-color:antiquewhite\"><h1>C Programming: Shared Libraries</h1><br>\n",
    "©2000-21 Chris Seddon \n",
    "</div>"
   ]
  },
  {
   "cell_type": "markdown",
   "metadata": {},
   "source": [
    "# 1: Build the library (linker fails)\n",
    "Shared libraries are loaded into virtual memory by executable programs when they start. This enables many executables to share the same library code at run time.  This in turn means the shared library code does not need to be linked to the excutable (unlike with static libraries) thereby greatly reducing the size of the executable.  \n",
    "\n",
    "We begin by compiling and linking the shared library code using the <b>-shared</b><a href=\"http://www.microhowto.info/howto/build_a_shared_library_using_gcc.html#idp25488\"><b>-fPIC</b></a> options of gcc.  \n",
    "\n",
    "However, when the executable is linked, the linker will not know where the shared library is located."
   ]
  },
  {
   "cell_type": "code",
   "execution_count": 1,
   "metadata": {},
   "outputs": [
    {
     "name": "stdout",
     "output_type": "stream",
     "text": [
      "/usr/bin/ld: /tmp/cc774ncq.o: in function `main':\n",
      "f_main.c:(.text+0xe): undefined reference to `f1'\n",
      "/usr/bin/ld: f_main.c:(.text+0x18): undefined reference to `f2'\n",
      "/usr/bin/ld: f_main.c:(.text+0x22): undefined reference to `f3'\n",
      "collect2: error: ld returned 1 exit status\n"
     ]
    }
   ],
   "source": [
    "cd mylib\n",
    "gcc -shared -fPIC -o libf.so f1.c f2.c f3.c\n",
    "\n",
    "cd ../src\n",
    "gcc f_main.c -o f.exe\n",
    "cd .."
   ]
  },
  {
   "cell_type": "markdown",
   "metadata": {},
   "source": [
    "## 2: Place the shared library in the default location (/usr/lib)\n",
    "\n",
    "We can locate our library with other system libraries by copying it to `/usr/lib`.  Note, however, you will need `sudo` privileges to do that.  The kernel needs to be informed of the location of the new shared library, so the kernel cache needs updating.\n",
    "\n",
    "Unfortunately, the Jupyter bash kernel we are using does support reading on stdin, so we can't use `sudo` in our notebook.  \n",
    "\n",
    "Since you probably don't have sudo pivileges we'll defer how this works until the end of this tutorial."
   ]
  },
  {
   "cell_type": "markdown",
   "metadata": {},
   "source": [
    "## 3: Using LD_LIBRARY_PATH (works but fragile)\n",
    "If you can't use sudo, then one alternative is to use the `LD_LIBRARY_PATH` environment variable to locate the shared library.\n",
    "This method works, but is fragile (the environment variable must be set correctly).  \n",
    "\n",
    "We begin by compiling the library code:"
   ]
  },
  {
   "cell_type": "code",
   "execution_count": 2,
   "metadata": {},
   "outputs": [],
   "source": [
    "cd mylib\n",
    "gcc -shared -fPIC -o libf.so f1.c f2.c f3.c\n",
    "cd .."
   ]
  },
  {
   "cell_type": "markdown",
   "metadata": {},
   "source": [
    "Next we setup the `LD_LIBRARY_PATH` relative to directory in which we compile our main program.  Then we can compile and run our executable:"
   ]
  },
  {
   "cell_type": "code",
   "execution_count": 3,
   "metadata": {},
   "outputs": [
    {
     "name": "stdout",
     "output_type": "stream",
     "text": [
      "This is f1()\n",
      "This is f2()\n",
      "This is f3()\n"
     ]
    }
   ],
   "source": [
    "cd src\n",
    "export LD_LIBRARY_PATH=../mylib\n",
    "gcc f_main.c -L../mylib -lf -o f.exe\n",
    "\n",
    "# run the program\n",
    "f.exe\n",
    "\n",
    "cd .."
   ]
  },
  {
   "cell_type": "markdown",
   "metadata": {},
   "source": [
    "We can check where our shared library resides, by using `ldd`:"
   ]
  },
  {
   "cell_type": "code",
   "execution_count": 4,
   "metadata": {},
   "outputs": [
    {
     "name": "stdout",
     "output_type": "stream",
     "text": [
      "\tlinux-vdso.so.1 (0x00007ffd50cab000)\n",
      "\tlibf.so => ../mylib/libf.so (0x00007f3e5a948000)\n",
      "\tlibc.so.6 => /lib/x86_64-linux-gnu/libc.so.6 (0x00007f3e5a728000)\n",
      "\t/lib64/ld-linux-x86-64.so.2 (0x00007f3e5a954000)\n"
     ]
    }
   ],
   "source": [
    "cd src\n",
    "\n",
    "# check shared library dependencies\n",
    "ldd f.exe\n",
    "cd .."
   ]
  },
  {
   "cell_type": "markdown",
   "metadata": {},
   "source": [
    "## 4: Build Shared Library with RPATH (most reliable)\n",
    "Rather than using `LD_LIBRAY_PATH` to locate the library, we can embed the path to the library in the executable as a relative path.  This involves talking to the linker directly.  Recall `gcc` is a macro that calls the compiler and the linker.  \n",
    "\n",
    "To pass parameters to the linker we use the `-Wl,` option to `gcc`."
   ]
  },
  {
   "cell_type": "code",
   "execution_count": 5,
   "metadata": {},
   "outputs": [
    {
     "name": "stdout",
     "output_type": "stream",
     "text": [
      "This is f1()\n",
      "This is f2()\n",
      "This is f3()\n",
      "\tlinux-vdso.so.1 (0x00007ffc5cafe000)\n",
      "\tlibf.so => ../mylib/libf.so (0x00007ff6213ad000)\n",
      "\tlibc.so.6 => /lib/x86_64-linux-gnu/libc.so.6 (0x00007ff62118d000)\n",
      "\t/lib64/ld-linux-x86-64.so.2 (0x00007ff6213b9000)\n"
     ]
    }
   ],
   "source": [
    "cd src\n",
    "gcc f_main.c -Wl,-rpath=../mylib -L../mylib -lf -o f.exe\n",
    "f.exe\n",
    "ldd f.exe\n",
    "cd .."
   ]
  },
  {
   "cell_type": "markdown",
   "metadata": {},
   "source": [
    "Finally, let's look at info stored in the shared object.  Firstly use the `file` command:"
   ]
  },
  {
   "cell_type": "code",
   "execution_count": 6,
   "metadata": {},
   "outputs": [
    {
     "name": "stdout",
     "output_type": "stream",
     "text": [
      "libf1.so: ELF 64-bit LSB shared object, x86-64, version 1 (SYSV), dynamically linked, BuildID[sha1]=c88c731b59566694eb158ec9fbbf01e7cb3bbc70, not stripped\n"
     ]
    }
   ],
   "source": [
    "cd mylib\n",
    "file libf1.so\n",
    "cd .."
   ]
  },
  {
   "cell_type": "markdown",
   "metadata": {},
   "source": [
    "Secondly, use the `nm` command.  Note that we have not compiled with `-g` so debugging symbols will be missing:"
   ]
  },
  {
   "cell_type": "code",
   "execution_count": 7,
   "metadata": {},
   "outputs": [
    {
     "name": "stdout",
     "output_type": "stream",
     "text": [
      "0000000000201028 B __bss_start\n",
      "0000000000201028 b completed.7698\n",
      "                 w __cxa_finalize@@GLIBC_2.2.5\n",
      "0000000000000530 t deregister_tm_clones\n",
      "00000000000005c0 t __do_global_dtors_aux\n",
      "0000000000200e18 d __do_global_dtors_aux_fini_array_entry\n",
      "0000000000201020 d __dso_handle\n",
      "0000000000200e20 d _DYNAMIC\n",
      "0000000000201028 D _edata\n",
      "0000000000201030 B _end\n",
      "000000000000060a T f1\n",
      "0000000000000620 T _fini\n",
      "0000000000000600 t frame_dummy\n",
      "0000000000200e10 d __frame_dummy_init_array_entry\n",
      "00000000000006d8 r __FRAME_END__\n",
      "0000000000201000 d _GLOBAL_OFFSET_TABLE_\n",
      "                 w __gmon_start__\n",
      "0000000000000638 r __GNU_EH_FRAME_HDR\n",
      "00000000000004e0 T _init\n",
      "                 w _ITM_deregisterTMCloneTable\n",
      "                 w _ITM_registerTMCloneTable\n",
      "                 U puts@@GLIBC_2.2.5\n",
      "0000000000000570 t register_tm_clones\n",
      "0000000000201028 d __TMC_END__\n"
     ]
    }
   ],
   "source": [
    "cd mylib\n",
    "nm libf1.so\n",
    "cd .."
   ]
  },
  {
   "cell_type": "markdown",
   "metadata": {},
   "source": [
    "To complete this tutorial we return to the original idea where we locate our library with other system libraries by copying it to `/usr/lib`.  Recall, you will need `sudo` privileges to do that.  The kernel needs to be informed of the location of the new shared library, so the kernel cache needs updating.\n",
    "\n",
    "Unfortunately, the Jupyter bash kernel we are using does support reading on stdin, so we can't use `sudo` in our notebook.  \n",
    "\n",
    "However, if you do have `sudo` privileges you can copy the shared library to `/usr/lib` and then compile, link our main program and finally run it, by execution the following commands in a terminal:"
   ]
  },
  {
   "cell_type": "code",
   "execution_count": null,
   "metadata": {},
   "outputs": [],
   "source": [
    "cd mylib\n",
    "sudo cp libf.so /usr/lib\n",
    "\n",
    "# update cache\n",
    "sudo ldconfig\n",
    "\n",
    "# compile, link and run\n",
    "cd ../src\n",
    "gcc f_main.c -lf -o f.exe\n",
    "f.exe"
   ]
  },
  {
   "cell_type": "markdown",
   "metadata": {},
   "source": [
    "Finally, let's remove the shared library from `/usr/lib`.  Again, we will need to do the following on the command line, outside the notebook:"
   ]
  },
  {
   "cell_type": "code",
   "execution_count": null,
   "metadata": {},
   "outputs": [],
   "source": [
    "sudo rm /usr/lib/libf.so"
   ]
  }
 ],
 "metadata": {
  "kernelspec": {
   "display_name": "Bash",
   "language": "bash",
   "name": "bash"
  },
  "language_info": {
   "codemirror_mode": "shell",
   "file_extension": ".sh",
   "mimetype": "text/x-sh",
   "name": "bash"
  }
 },
 "nbformat": 4,
 "nbformat_minor": 2
}
