{
 "cells": [
  {
   "cell_type": "markdown",
   "metadata": {},
   "source": [
    "<div style=\"color:red;background-color:black\">\n",
    "Diamond Light Source\n",
    "<br style=\"color:red;background-color:antiquewhite\"><h1>C Programming: Shared Libraries</h1><br>\n",
    "©2000-21 Chris Seddon \n",
    "</div>"
   ]
  },
  {
   "cell_type": "markdown",
   "metadata": {},
   "source": [
    "# 1: Build the library (linker fails)\n",
    "Shared libraries are loaded into virtual memory by executable programs when they start. This enables many executables to share library code at run time.  This means the shared library code does not need to be linked to the excutable (unlike with static libraries) thereby greatly reducing the size of the executable.  \n",
    "\n",
    "We begin by compiling and linking the shared library code using the <b>-shared</b><a href=\"http://www.microhowto.info/howto/build_a_shared_library_using_gcc.html#idp25488\"><b>-fPIC</b></a> options of gcc.  \n",
    "\n",
    "However, when the executable is linked, the linker will not know where the shared library is located."
   ]
  },
  {
   "cell_type": "code",
   "execution_count": 1,
   "metadata": {},
   "outputs": [
    {
     "name": "stdout",
     "output_type": "stream",
     "text": [
      "/tmp/ccAXx4XG.o: In function `main':\n",
      "f_main.c:(.text+0xa): undefined reference to `f1'\n",
      "f_main.c:(.text+0x14): undefined reference to `f2'\n",
      "f_main.c:(.text+0x1e): undefined reference to `f3'\n",
      "collect2: error: ld returned 1 exit status\n"
     ]
    }
   ],
   "source": [
    "cd mylib\n",
    "gcc -shared -fPIC -o libf.so f1.c f2.c f3.c\n",
    "\n",
    "cd ../src\n",
    "gcc f_main.c -o f.exe\n",
    "cd .."
   ]
  },
  {
   "cell_type": "markdown",
   "metadata": {},
   "source": [
    "## 2: Place the shared library in the default location (/usr/lib)\n",
    "\n",
    "We can locate our library with other system libraries by copying it to `/usr/lib`.  Note, however, you will need `sudo` privileges to do that.  The kernel needs to be informed of the location of the new shared library, so the kernel cache needs updating.\n",
    "\n",
    "Unfortunately, the Jupyter bash kernel we are using does support reading on stdin, so we can't use `sudo` in our notebook.  \n",
    "\n",
    "Instead you will need to run the following on the command line:"
   ]
  },
  {
   "cell_type": "code",
   "execution_count": null,
   "metadata": {},
   "outputs": [],
   "source": [
    "# cd mylib\n",
    "# sudo cp libf.so /usr/lib\n",
    "\n",
    "# update cache\n",
    "# sudo ldconfig\n",
    "# cd .."
   ]
  },
  {
   "cell_type": "markdown",
   "metadata": {},
   "source": [
    "Once the library is installed in `/usr/lib` we can compile and link our main program and then run it:"
   ]
  },
  {
   "cell_type": "code",
   "execution_count": null,
   "metadata": {},
   "outputs": [],
   "source": [
    "cd src\n",
    "gcc f_main.c -lf -o f.exe\n",
    "f.exe\n",
    "cd .."
   ]
  },
  {
   "cell_type": "markdown",
   "metadata": {},
   "source": [
    "Using `sudo` is problematic for ordinary users.  But, before we look at alternatives, let's remove the shared library from `/usr/lib`.  Again, we will need to do the following on the command line, outside the notebook:"
   ]
  },
  {
   "cell_type": "code",
   "execution_count": null,
   "metadata": {},
   "outputs": [],
   "source": [
    "# sudo rm /usr/lib/libf.so"
   ]
  },
  {
   "cell_type": "markdown",
   "metadata": {},
   "source": [
    "## 3: Using LD_LIBRARY_PATH (works but fragile)\n",
    "If you can't use sudo, then one alternative is to use the `LD_LIBRARY_PATH` environment variable to locate the shared library.\n",
    "This method works, but is fragile (the environment variable must be set correctly).  \n",
    "\n",
    "We begin by compiling the library code:"
   ]
  },
  {
   "cell_type": "code",
   "execution_count": null,
   "metadata": {},
   "outputs": [],
   "source": [
    "cd mylib\n",
    "gcc -shared -fPIC -o libf.so f1.c f2.c f3.c\n",
    "cd .."
   ]
  },
  {
   "cell_type": "markdown",
   "metadata": {},
   "source": [
    "Next we setup the `LD_LIBRARY_PATH` relative to directory in which we compile our main program.  Then we can compile and run our executable:"
   ]
  },
  {
   "cell_type": "code",
   "execution_count": null,
   "metadata": {},
   "outputs": [],
   "source": [
    "cd src\n",
    "export LD_LIBRARY_PATH=../mylib\n",
    "gcc f_main.c -L../mylib -lf -o f.exe\n",
    "\n",
    "# run the program\n",
    "f.exe\n",
    "\n",
    "cd .."
   ]
  },
  {
   "cell_type": "markdown",
   "metadata": {},
   "source": [
    "We can check where our shared library resides, by using `ldd`:"
   ]
  },
  {
   "cell_type": "code",
   "execution_count": null,
   "metadata": {},
   "outputs": [],
   "source": [
    "cd src\n",
    "\n",
    "# check shared library dependencies\n",
    "ldd f.exe\n",
    "cd .."
   ]
  },
  {
   "cell_type": "markdown",
   "metadata": {},
   "source": [
    "## 4: Build Shared Library with RPATH (most reliable)\n",
    "Rather than using `LD_LIBRAY_PATH` to locate the library, we can embed the path to the library in the executable as a relative path.  This involves talking to the linker directly.  Recall `gcc` is a macro that calls the compiler and the linker.  \n",
    "\n",
    "To pass parameters to the linker we use the `-Wl,` option to `gcc`."
   ]
  },
  {
   "cell_type": "code",
   "execution_count": null,
   "metadata": {},
   "outputs": [],
   "source": [
    "cd src\n",
    "gcc f_main.c -Wl,-rpath=../mylib -L../mylib -lf -o f.exe\n",
    "f.exe\n",
    "ldd f.exe\n",
    "cd .."
   ]
  },
  {
   "cell_type": "markdown",
   "metadata": {},
   "source": [
    "Finally, let's look at info stored in the shared object.  Firstly use the `file` command:"
   ]
  },
  {
   "cell_type": "code",
   "execution_count": null,
   "metadata": {},
   "outputs": [],
   "source": [
    "cd mylib\n",
    "file libf1.so\n",
    "cd .."
   ]
  },
  {
   "cell_type": "markdown",
   "metadata": {},
   "source": [
    "Secondly, use the `nm` command.  Note that we have not compiled with `-g` so debugging symbols will be missing:"
   ]
  },
  {
   "cell_type": "code",
   "execution_count": null,
   "metadata": {},
   "outputs": [],
   "source": [
    "cd mylib\n",
    "nm libf1.so\n",
    "cd .."
   ]
  }
 ],
 "metadata": {
  "kernelspec": {
   "display_name": "Bash",
   "language": "bash",
   "name": "bash"
  },
  "language_info": {
   "codemirror_mode": "shell",
   "file_extension": ".sh",
   "mimetype": "text/x-sh",
   "name": "bash"
  }
 },
 "nbformat": 4,
 "nbformat_minor": 2
}
