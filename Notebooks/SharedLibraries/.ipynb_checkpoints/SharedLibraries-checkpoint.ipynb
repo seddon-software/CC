{
 "cells": [
  {
   "cell_type": "markdown",
   "metadata": {},
   "source": [
    "# 1: Build the library (linker fails) \n",
    "build a shared library using the '-shared -fPIC' option of gcc.  \n",
    "However, the linker fails to locate shared library."
   ]
  },
  {
   "cell_type": "code",
   "execution_count": null,
   "metadata": {},
   "outputs": [],
   "source": [
    "cd mylib\n",
    "gcc -shared -fPIC -o libf.so f1.c f2.c f3.c\n",
    "\n",
    "cd ../src\n",
    "gcc f_main.c -o f.exe\n",
    "cd .."
   ]
  },
  {
   "cell_type": "markdown",
   "metadata": {},
   "source": [
    "## 2: Place the shared library in the default location (/usr/lib)\n",
    "\n",
    "We can locate our library with other system libraries by copying it to `/usr/lib`.  Note, however, you will need `sudo` privileges to do that.  \n",
    "The kernel needs to be informed of the new shared library, so the kernel cache needs updating so the library can be located.\n",
    "Unfortunately, the bash kernel we are using does support reading on stdin, so we can't use `sudo` in the notebook.  \n",
    "Instead run the following on the command line:"
   ]
  },
  {
   "cell_type": "code",
   "execution_count": null,
   "metadata": {},
   "outputs": [],
   "source": [
    "sudo cp libf.so /usr/lib\n",
    "sudo ldconfig   # update cache"
   ]
  },
  {
   "cell_type": "markdown",
   "metadata": {},
   "source": [
    "Now the library is installed in `/usr/lib` we can compile and link our main program and then run it:"
   ]
  },
  {
   "cell_type": "code",
   "execution_count": null,
   "metadata": {},
   "outputs": [],
   "source": [
    "cd src\n",
    "gcc f_main.c -lf -o f.exe\n",
    "f.exe"
   ]
  },
  {
   "cell_type": "markdown",
   "metadata": {},
   "source": [
    "Using `sudo` is problematic for ordinary users.  But, before we look at alternatives let's remove the shared library from `/usr/lib`.  Again, we will need to do the following on the command line, outside the notebook:"
   ]
  },
  {
   "cell_type": "code",
   "execution_count": null,
   "metadata": {},
   "outputs": [],
   "source": [
    "sudo rm /usr/lib/libf.so"
   ]
  },
  {
   "cell_type": "code",
   "execution_count": null,
   "metadata": {},
   "outputs": [],
   "source": [
    "pwd"
   ]
  },
  {
   "cell_type": "code",
   "execution_count": null,
   "metadata": {},
   "outputs": [],
   "source": [
    "import getpass\n",
    "import os\n",
    "\n",
    "password = getpass.getpass()\n",
    "command = \"sudo -S touch sudo ldconfig\" #can be any command but don't forget -S as it enables input from stdin\n",
    "# os.system(f'echo {password} | {command}')\n",
    "os.system(f'echo {password} | {command}')\n"
   ]
  },
  {
   "cell_type": "code",
   "execution_count": null,
   "metadata": {},
   "outputs": [],
   "source": [
    "#python -c \"import os;os.system('sudo ls')\"\n",
    "pwd\n",
    "export SUDO_ASKPASS=z\n",
    "sudo -A ls"
   ]
  },
  {
   "cell_type": "code",
   "execution_count": null,
   "metadata": {},
   "outputs": [],
   "source": [
    "The kernel needs to be informed of the new shared library, so update the kernel cache\n",
    "so the library can be located."
   ]
  },
  {
   "cell_type": "code",
   "execution_count": null,
   "metadata": {},
   "outputs": [],
   "source": [
    "update the kernel cache\n",
    "sudo ldconfig\t# update cache\n",
    "sudo ldconfig -p | grep libf.so\n",
    "\n",
    "now link with libf.so\n",
    "\n",
    "clean up"
   ]
  },
  {
   "cell_type": "markdown",
   "metadata": {},
   "source": [
    "## 3: Using LD_LIBRARY_PATH (works but fragile)\n",
    "If you can't use sudo, then one alternative is to use the `LD_LIBRARY_PATH` environment variable to locate the shared library.\n",
    "This method works, but is fragile (the environment variable must be set correctly).  \n",
    "We begin by compiling the library code with the shared and <a href=\"http://www.microhowto.info/howto/build_a_shared_library_using_gcc.html#idp25488\">fPIC</a> options:"
   ]
  },
  {
   "cell_type": "code",
   "execution_count": null,
   "metadata": {},
   "outputs": [],
   "source": [
    "cd mylib\n",
    "gcc -shared -fPIC -o libf.so f1.c f2.c f3.c\n",
    "cd .."
   ]
  },
  {
   "cell_type": "markdown",
   "metadata": {},
   "source": [
    "Next we setup the `LD_LIBRARY_PATH` relative to directory in which we compile our main program.  Then we can compile and run our executable:"
   ]
  },
  {
   "cell_type": "code",
   "execution_count": null,
   "metadata": {},
   "outputs": [],
   "source": [
    "cd src\n",
    "export LD_LIBRARY_PATH=../mylib\n",
    "gcc f_main.c -L../mylib -lf -o f.exe\n",
    "\n",
    "# run the program\n",
    "f.exe\n",
    "\n",
    "cd .."
   ]
  },
  {
   "cell_type": "markdown",
   "metadata": {},
   "source": [
    "We can check where our shared library resides, by using `ldd`:"
   ]
  },
  {
   "cell_type": "code",
   "execution_count": null,
   "metadata": {},
   "outputs": [],
   "source": [
    "cd src\n",
    "\n",
    "# check shared library dependencies\n",
    "ldd f.exe\n",
    "cd .."
   ]
  },
  {
   "cell_type": "markdown",
   "metadata": {},
   "source": [
    "## 4: Build Shared Library with RPATH (most reliable)\n",
    "Rather than using `LD_LIBRAY_PATH` to locate the library, we can embed the path to the library in the executable as a relative path.  This involves talking to the linker directly.  Recall `gcc` is a macro that calls the compiler and the linker.  \n",
    "\n",
    "To pass parameters to the linker we use the `-Wl,` option to `gcc`."
   ]
  },
  {
   "cell_type": "code",
   "execution_count": null,
   "metadata": {},
   "outputs": [],
   "source": [
    "cd src\n",
    "gcc f_main.c -Wl,-rpath=../mylib -L../mylib -lf -o f.exe\n",
    "f.exe\n",
    "ldd f.exe\n",
    "cd .."
   ]
  },
  {
   "cell_type": "markdown",
   "metadata": {},
   "source": [
    "Finally, let's look at info stored in the shared object.  Firstly use the `file` command:"
   ]
  },
  {
   "cell_type": "code",
   "execution_count": null,
   "metadata": {},
   "outputs": [],
   "source": [
    "cd mylib\n",
    "file libf1.so\n",
    "cd .."
   ]
  },
  {
   "cell_type": "markdown",
   "metadata": {},
   "source": [
    "Secondly, use the `nm` command:"
   ]
  },
  {
   "cell_type": "code",
   "execution_count": null,
   "metadata": {},
   "outputs": [],
   "source": [
    "cd mylib\n",
    "nm libf1.so\n",
    "cd .."
   ]
  }
 ],
 "metadata": {
  "kernelspec": {
   "display_name": "Bash",
   "language": "bash",
   "name": "bash"
  },
  "language_info": {
   "codemirror_mode": "shell",
   "file_extension": ".sh",
   "mimetype": "text/x-sh",
   "name": "bash"
  }
 },
 "nbformat": 4,
 "nbformat_minor": 2
}
