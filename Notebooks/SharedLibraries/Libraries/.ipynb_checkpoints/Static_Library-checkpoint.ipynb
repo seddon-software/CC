{
 "cells": [
  {
   "cell_type": "markdown",
   "metadata": {},
   "source": [
    "# 1: Create a static library\n",
    "\n",
    "Start by looking at our source files.  \n",
    "I'm intendng to build a static library from files stored in `mylib`.  The library will be utilised by `f_main.c` in the `src` directory."
   ]
  },
  {
   "cell_type": "code",
   "execution_count": 3,
   "metadata": {},
   "outputs": [
    {
     "name": "stdout",
     "output_type": "stream",
     "text": [
      "./mylib/f2.c\n",
      "./mylib/f3.c\n",
      "./mylib/f1.c\n",
      "./src/f_main.c\n"
     ]
    }
   ],
   "source": [
    "find . -name 'f*.c'"
   ]
  },
  {
   "cell_type": "markdown",
   "metadata": {},
   "source": [
    "I've kept these source files simple so we can concentrate on the linking process:"
   ]
  },
  {
   "cell_type": "code",
   "execution_count": 4,
   "metadata": {},
   "outputs": [
    {
     "name": "stdout",
     "output_type": "stream",
     "text": [
      "#include <stdio.h>\n",
      "\n",
      "void f2()\n",
      "{\n",
      "\tputs(\"This is f2()\");\n",
      "}\n",
      "#include <stdio.h>\n",
      "\n",
      "void f3()\n",
      "{\n",
      "\tputs(\"This is f3()\");\n",
      "}\n",
      "#include <stdio.h>\n",
      "\n",
      "void f1()\n",
      "{\n",
      "\tputs(\"This is f1()\");\n",
      "}\n",
      "#include <stdio.h>\n",
      "\n",
      "#include \"f.h\"\n",
      "\n",
      "int main()\n",
      "{\n",
      "    f1(); \n",
      "    f2();\n",
      "    f3();\n",
      "    return 0;\n",
      "}\n"
     ]
    }
   ],
   "source": [
    "find . -name 'f*.c' -exec cat {} \\;"
   ]
  },
  {
   "cell_type": "markdown",
   "metadata": {},
   "source": [
    "We can now create a static library called `libf1.a` by first compiling the source files using the -c option of gcc.  This will create several object files with a `.o` extension."
   ]
  },
  {
   "cell_type": "code",
   "execution_count": 6,
   "metadata": {},
   "outputs": [
    {
     "name": "stdout",
     "output_type": "stream",
     "text": [
      "total 24\n",
      "-rw-r--r-- 1 chris chris   57 Feb 11 14:46 f1.c\n",
      "-rw-r--r-- 1 chris chris 1536 Feb 11 14:58 f1.o\n",
      "-rw-r--r-- 1 chris chris   57 Feb 11 14:46 f2.c\n",
      "-rw-r--r-- 1 chris chris 1536 Feb 11 14:58 f2.o\n",
      "-rw-r--r-- 1 chris chris   57 Feb 11 14:46 f3.c\n",
      "-rw-r--r-- 1 chris chris 1536 Feb 11 14:58 f3.o\n"
     ]
    }
   ],
   "source": [
    "cd mylib\n",
    "gcc -c f1.c f2.c f3.c\n",
    "ls -l\n",
    "cd .."
   ]
  },
  {
   "cell_type": "markdown",
   "metadata": {},
   "source": [
    "The object files `f1.o f2.o f3.o` can now be placed in the static library using the `ar` utility."
   ]
  },
  {
   "cell_type": "code",
   "execution_count": 7,
   "metadata": {},
   "outputs": [],
   "source": [
    "cd mylib\n",
    "ar -cr libf.a f1.o f2.o f3.o\n",
    "cd .."
   ]
  },
  {
   "cell_type": "markdown",
   "metadata": {},
   "source": [
    "Take a look at the contents of the library:"
   ]
  },
  {
   "cell_type": "code",
   "execution_count": 9,
   "metadata": {},
   "outputs": [
    {
     "name": "stdout",
     "output_type": "stream",
     "text": [
      "f1.o\n",
      "f2.o\n",
      "f3.o\n"
     ]
    }
   ],
   "source": [
    "ar -t mylib/libf.a"
   ]
  },
  {
   "cell_type": "markdown",
   "metadata": {},
   "source": [
    "We can now complete the static linking by specifying:\n",
    "* which directory contains the library: -L ../mylib\n",
    "* the name of the library: -lf \n",
    "\n",
    "Note all library names are of the form `libxxx.a`, but you only specify the `xxx` part."
   ]
  },
  {
   "cell_type": "code",
   "execution_count": 10,
   "metadata": {},
   "outputs": [],
   "source": [
    "cd src\n",
    "gcc -static f_main.c -L ../mylib -lf -o f.exe\n",
    "cd .."
   ]
  },
  {
   "cell_type": "markdown",
   "metadata": {},
   "source": [
    "Now the exe is built we can run it:"
   ]
  },
  {
   "cell_type": "code",
   "execution_count": 11,
   "metadata": {},
   "outputs": [
    {
     "name": "stdout",
     "output_type": "stream",
     "text": [
      "This is f1()\n",
      "This is f2()\n",
      "This is f3()\n"
     ]
    }
   ],
   "source": [
    "cd src\n",
    "f.exe\n",
    "cd .."
   ]
  },
  {
   "cell_type": "markdown",
   "metadata": {},
   "source": [
    "Its interesting to look at the library symbol table using `nm`.  Notice `f1`, `f2` and `f3` are defined in the library (T option), but the <a href = \"https://www.bottomupcs.com/global_offset_tables.xhtml\">Global Offset Table</a>\n",
    "and the library function `puts` don't get defined until the exe is built."
   ]
  },
  {
   "cell_type": "code",
   "execution_count": 12,
   "metadata": {},
   "outputs": [
    {
     "name": "stdout",
     "output_type": "stream",
     "text": [
      "\n",
      "f1.o:\n",
      "0000000000000000 T f1\n",
      "                 U _GLOBAL_OFFSET_TABLE_\n",
      "                 U puts\n",
      "\n",
      "f2.o:\n",
      "0000000000000000 T f2\n",
      "                 U _GLOBAL_OFFSET_TABLE_\n",
      "                 U puts\n",
      "\n",
      "f3.o:\n",
      "0000000000000000 T f3\n",
      "                 U _GLOBAL_OFFSET_TABLE_\n",
      "                 U puts\n"
     ]
    }
   ],
   "source": [
    "cd mylib\n",
    "nm libf.a\n",
    "cd .."
   ]
  },
  {
   "cell_type": "markdown",
   "metadata": {},
   "source": [
    "Now clean up:"
   ]
  },
  {
   "cell_type": "code",
   "execution_count": 15,
   "metadata": {},
   "outputs": [],
   "source": [
    "find . -name \"*.o\" -exec rm {} \\;\n",
    "find . -name \"*.a\" -exec rm {} \\;\n",
    "find . -name \"*.exe\" -exec rm {} \\;"
   ]
  }
 ],
 "metadata": {
  "kernelspec": {
   "display_name": "Bash",
   "language": "bash",
   "name": "bash"
  },
  "language_info": {
   "codemirror_mode": "shell",
   "file_extension": ".sh",
   "mimetype": "text/x-sh",
   "name": "bash"
  }
 },
 "nbformat": 4,
 "nbformat_minor": 2
}
