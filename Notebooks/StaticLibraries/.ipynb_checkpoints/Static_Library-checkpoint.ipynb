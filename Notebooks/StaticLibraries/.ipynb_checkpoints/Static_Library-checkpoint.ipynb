{
 "cells": [
  {
   "cell_type": "markdown",
   "metadata": {},
   "source": [
    "<div style=\"color:red;background-color:black\">\n",
    "Diamond Light Source\n",
    "<br style=\"color:red;background-color:antiquewhite\"><h1>C Programming: Static Libraries</h1><br>\n",
    "©2000-21 Chris Seddon \n",
    "</div>"
   ]
  },
  {
   "cell_type": "markdown",
   "metadata": {},
   "source": [
    "# 1: Create a static library\n",
    "\n",
    "Start by looking at our source files.  \n",
    "I'm intendng to build a static library from files stored in `mylib`.  The library will be utilised by `f_main.c` in the `src` directory."
   ]
  },
  {
   "cell_type": "code",
   "execution_count": null,
   "metadata": {},
   "outputs": [],
   "source": [
    "find . -name 'f*.c'"
   ]
  },
  {
   "cell_type": "markdown",
   "metadata": {},
   "source": [
    "I've kept these source files simple so we can concentrate on the linking process:"
   ]
  },
  {
   "cell_type": "code",
   "execution_count": null,
   "metadata": {},
   "outputs": [],
   "source": [
    "find . -name 'f*.c' -exec cat {} \\;"
   ]
  },
  {
   "cell_type": "markdown",
   "metadata": {},
   "source": [
    "We can now create a static library called `libf1.a` by first compiling the source files using the -c option of gcc.  This will create several object files with a `.o` extension."
   ]
  },
  {
   "cell_type": "code",
   "execution_count": null,
   "metadata": {},
   "outputs": [],
   "source": [
    "cd mylib\n",
    "gcc -c f1.c f2.c f3.c\n",
    "ls -l *.o\n",
    "cd .."
   ]
  },
  {
   "cell_type": "markdown",
   "metadata": {},
   "source": [
    "The object files `f1.o f2.o f3.o` can now be placed in the static library using the `ar` utility."
   ]
  },
  {
   "cell_type": "code",
   "execution_count": null,
   "metadata": {},
   "outputs": [],
   "source": [
    "cd mylib\n",
    "ar -cr libf.a f1.o f2.o f3.o\n",
    "cd .."
   ]
  },
  {
   "cell_type": "markdown",
   "metadata": {},
   "source": [
    "Take a look at the contents of the library:"
   ]
  },
  {
   "cell_type": "code",
   "execution_count": null,
   "metadata": {},
   "outputs": [],
   "source": [
    "ar -t mylib/libf.a"
   ]
  },
  {
   "cell_type": "markdown",
   "metadata": {},
   "source": [
    "We can now complete the static linking by specifying:\n",
    "* which directory contains the library: -L ../mylib\n",
    "* the name of the library: -lf \n",
    "\n",
    "Note all library names are of the form `libxxx.a`, but you only specify the `xxx` part."
   ]
  },
  {
   "cell_type": "code",
   "execution_count": null,
   "metadata": {},
   "outputs": [],
   "source": [
    "cd src\n",
    "gcc -static f_main.c -L ../mylib -lf -o f.exe\n",
    "cd .."
   ]
  },
  {
   "cell_type": "markdown",
   "metadata": {},
   "source": [
    "Now the exe is built we can run it:"
   ]
  },
  {
   "cell_type": "code",
   "execution_count": null,
   "metadata": {},
   "outputs": [],
   "source": [
    "cd src\n",
    "f.exe\n",
    "cd .."
   ]
  },
  {
   "cell_type": "markdown",
   "metadata": {},
   "source": [
    "Its interesting to look at the library symbol table using `nm`.  \n",
    "Notice `f1`, `f2` and `f3` are defined in the library (T option), but the <a href = \"https://www.bottomupcs.com/global_offset_tables.xhtml\">Global Offset Table</a>\n",
    "and the library function `puts` are undefined (U option) until the exe is built."
   ]
  },
  {
   "cell_type": "code",
   "execution_count": null,
   "metadata": {},
   "outputs": [],
   "source": [
    "cd mylib\n",
    "nm libf.a\n",
    "cd .."
   ]
  },
  {
   "cell_type": "markdown",
   "metadata": {},
   "source": [
    "Now clean up:"
   ]
  },
  {
   "cell_type": "code",
   "execution_count": null,
   "metadata": {},
   "outputs": [],
   "source": [
    "find . -name \"*.o\" -exec rm {} \\;\n",
    "find . -name \"*.a\" -exec rm {} \\;\n",
    "find . -name \"*.exe\" -exec rm {} \\;"
   ]
  }
 ],
 "metadata": {
  "kernelspec": {
   "display_name": "Bash",
   "language": "bash",
   "name": "bash"
  },
  "language_info": {
   "codemirror_mode": "shell",
   "file_extension": ".sh",
   "mimetype": "text/x-sh",
   "name": "bash"
  }
 },
 "nbformat": 4,
 "nbformat_minor": 2
}
