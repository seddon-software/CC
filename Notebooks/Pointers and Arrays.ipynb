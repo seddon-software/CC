{
 "cells": [
  {
   "cell_type": "markdown",
   "metadata": {},
   "source": [
    "<div style=\"color:red;background-color:black\">\n",
    "Diamond Light Source\n",
    "<br style=\"color:red;background-color:antiquewhite\"><h1>C Programming: Pointers and Arrays</h1><br>\n",
    "©2000-21 Chris Seddon \n",
    "</div>"
   ]
  },
  {
   "cell_type": "markdown",
   "metadata": {},
   "source": [
    "## 1. Arrays and Memory\n",
    "In C, there is a very close relationship between arrays and pointers.  Let's start by looking at a simple array:"
   ]
  },
  {
   "cell_type": "code",
   "execution_count": null,
   "metadata": {},
   "outputs": [],
   "source": [
    "#include <stdio.h>\n",
    "\n",
    "int main()\n",
    "{\n",
    "    int a[5] = {10, 20, 30, 40, 50};\n",
    "    printf(\"%i\\n\", a[0]);\n",
    "    printf(\"%i\\n\", a[1]);\n",
    "    printf(\"%i\\n\", a[2]);\n",
    "    printf(\"%i\\n\", a[3]);\n",
    "    printf(\"%i\\n\", a[4]);\n",
    "}"
   ]
  },
  {
   "cell_type": "markdown",
   "metadata": {},
   "source": [
    "Arrays are stored in contiguous memory.  We can see that by looking at the address of each element of the array.  Notice each item of the array is a fixed number of memory locations apart."
   ]
  },
  {
   "cell_type": "code",
   "execution_count": null,
   "metadata": {},
   "outputs": [],
   "source": [
    "#include <stdio.h>\n",
    "\n",
    "int main()\n",
    "{\n",
    "    int a[5] = {10, 20, 30, 40, 50};\n",
    "    printf(\"%p\\n\", &a[0]);\n",
    "    printf(\"%p\\n\", &a[1]);\n",
    "    printf(\"%p\\n\", &a[2]);\n",
    "    printf(\"%p\\n\", &a[3]);\n",
    "    printf(\"%p\\n\", &a[4]);\n",
    "}"
   ]
  },
  {
   "cell_type": "markdown",
   "metadata": {},
   "source": [
    "It turns out that the name of an array in C is actually a pointer to the first element of the array.  We can check that:\n",
    "<pre>\n",
    "a = &a[0]\n",
    "</pre>\n",
    "with the following program:"
   ]
  },
  {
   "cell_type": "code",
   "execution_count": null,
   "metadata": {},
   "outputs": [],
   "source": [
    "#include <stdio.h>\n",
    "\n",
    "int main()\n",
    "{\n",
    "    int a[5] = {10, 20, 30, 40, 50};\n",
    "    printf(\"%p\\n\", &a[0]);\n",
    "    printf(\"%p\\n\", a);\n",
    "}"
   ]
  },
  {
   "cell_type": "markdown",
   "metadata": {},
   "source": [
    "## 2. Using Pointers\n",
    "Let's create a real pointer that points at our array.  We can initialise the pointer with either:\n",
    "<pre>\n",
    "a\n",
    "&a[0]\n",
    "</pre>\n",
    "When we do this we can access the array using pointer notation:"
   ]
  },
  {
   "cell_type": "code",
   "execution_count": null,
   "metadata": {},
   "outputs": [],
   "source": [
    "#include <stdio.h>\n",
    "\n",
    "int main()\n",
    "{\n",
    "    int a[5] = {10, 20, 30, 40, 50};\n",
    "    int* p = a;    // or &a[0]\n",
    "    printf(\"%i\\n\", p[0]);\n",
    "    printf(\"%i\\n\", p[1]);\n",
    "    printf(\"%i\\n\", p[2]);\n",
    "    printf(\"%i\\n\", p[3]);\n",
    "    printf(\"%i\\n\", p[4]);\n",
    "}"
   ]
  },
  {
   "cell_type": "markdown",
   "metadata": {},
   "source": [
    "Notice that:\n",
    "<pre>\n",
    "p[0] = a[0]\n",
    "p[1] = a[1]\n",
    "p[2] = a[2]\n",
    "p[3] = a[3]\n",
    "p[4] = a[4]\n",
    "</pre>\n",
    "Let's run our previous example again using a loop (nothing new here):"
   ]
  },
  {
   "cell_type": "code",
   "execution_count": null,
   "metadata": {},
   "outputs": [],
   "source": [
    "#include <stdio.h>\n",
    "\n",
    "int main()\n",
    "{\n",
    "    int a[5] = {10, 20, 30, 40, 50};\n",
    "    int* p = a;\n",
    "    for(int i = 0; i < 5; i++)\n",
    "    {\n",
    "        printf(\"%i\\n\", p[i]);\n",
    "    }\n",
    "}"
   ]
  },
  {
   "cell_type": "markdown",
   "metadata": {},
   "source": [
    "As an alternative to the above, since p is a pointer, we can step though the array by incrementing the pointer:"
   ]
  },
  {
   "cell_type": "code",
   "execution_count": null,
   "metadata": {},
   "outputs": [],
   "source": [
    "#include <stdio.h>\n",
    "\n",
    "int main()\n",
    "{\n",
    "    int a[5] = {10, 20, 30, 40, 50};\n",
    "    int* p = a;\n",
    "        \n",
    "    for(int i = 0; i < 5; i++)\n",
    "    {\n",
    "        printf(\"%i\\n\", *p);\n",
    "        p++;\n",
    "    }\n",
    "}"
   ]
  },
  {
   "cell_type": "markdown",
   "metadata": {},
   "source": [
    "Just to double check - let's compare how the pointer values change as `p` is incremented:"
   ]
  },
  {
   "cell_type": "code",
   "execution_count": null,
   "metadata": {},
   "outputs": [],
   "source": [
    "#include <stdio.h>\n",
    "\n",
    "int main()\n",
    "{\n",
    "    int a[5] = {10, 20, 30, 40, 50};\n",
    "    int* p = a;\n",
    "        \n",
    "    for(int i = 0; i < 5; i++)\n",
    "    {\n",
    "        printf(\"%p\\n\", p);\n",
    "        p++;\n",
    "    }\n",
    "}"
   ]
  },
  {
   "cell_type": "markdown",
   "metadata": {},
   "source": [
    "Instead of incrementing the pointer we keep the pointer fixed and use an offet `p + i`:"
   ]
  },
  {
   "cell_type": "code",
   "execution_count": null,
   "metadata": {},
   "outputs": [],
   "source": [
    "#include <stdio.h>\n",
    "\n",
    "int main()\n",
    "{\n",
    "    int a[5] = {10, 20, 30, 40, 50};\n",
    "    int* p = a;\n",
    "        \n",
    "    for(int i = 0; i < 5; i++)\n",
    "    {\n",
    "        printf(\"%p\\n\", &a[i]);\n",
    "        printf(\"%p\\n\", p+i);\n",
    "        printf(\"\\n\");\n",
    "    }\n",
    "}"
   ]
  },
  {
   "cell_type": "markdown",
   "metadata": {},
   "source": [
    "## 3.  The Fundamental Relation:      a[i] = *(a + i)  \n",
    "Earlier we said that:\n",
    "<pre>\n",
    "&a[0] = a\n",
    "</pre>\n",
    "The above program suggests the following is true for arrays and pointers:\n",
    "<pre>\n",
    "&a[i] = a + i\n",
    "</pre>\n",
    "Note that if we apply a `*` to this identity we get:\n",
    "<pre>\n",
    "    *&a[i] = *(a + i)\n",
    "</pre>\n",
    "and `*&` are inverse operators and cancel each other out to give:\n",
    "<pre>\n",
    "    a[i] = *(a + i)\n",
    "</pre>\n",
    "We can prove this by observing:"
   ]
  },
  {
   "cell_type": "code",
   "execution_count": null,
   "metadata": {},
   "outputs": [],
   "source": [
    "#include <stdio.h>\n",
    "\n",
    "int main()\n",
    "{\n",
    "    int a[5] = {10, 20, 30, 40, 50};\n",
    "    int* p = a;\n",
    "        \n",
    "    for(int i = 0; i < 5; i++)\n",
    "    {\n",
    "        printf(\"%i\\n\", a[i]);\n",
    "        printf(\"%i\\n\", *(a+i));\n",
    "    }\n",
    "}"
   ]
  },
  {
   "cell_type": "markdown",
   "metadata": {},
   "source": [
    "Clearly we can replace the array name `a` with the pointer `p` in the above examples.  Thus there appears to be no difference between `a` and `p`.  However, this isn't exactly true; `a` is a constant pointer (r-value), whereas `p` is mutable (l-value).\n",
    "\n",
    "The terms l-value and r-value refer to whether variables can appear on the left or right of an assignment.  \n",
    "`a` is an r-value because `a` can only appear on the right of an assignment and you <b>can't</b> write:\n",
    "<pre>\n",
    "    a = a + 1;  // or a++\n",
    "</pre>\n",
    "whereas `p` is an l-value because you <b>can</b> write:\n",
    "<pre>\n",
    "    p = p + 1;  // or p++\n",
    "</pre>\n",
    "\n",
    "Let's put it to the test:"
   ]
  },
  {
   "cell_type": "code",
   "execution_count": null,
   "metadata": {},
   "outputs": [],
   "source": [
    "#include <stdio.h>\n",
    "\n",
    "int main()\n",
    "{\n",
    "    int a[5] = {10, 20, 30, 40, 50};\n",
    "    int* p = a;\n",
    "    p++;    // legal, p is mutable\n",
    "    a++;    // illegal, a is immutable\n",
    "}"
   ]
  },
  {
   "cell_type": "markdown",
   "metadata": {},
   "source": [
    "## 4. Passing Arrays to Functions\n",
    "Finally let's see what happens when we pass an array to function:"
   ]
  },
  {
   "cell_type": "code",
   "execution_count": null,
   "metadata": {},
   "outputs": [],
   "source": [
    "#include <stdio.h>\n",
    "\n",
    "void printArray(int a[5])\n",
    "{\n",
    "    for(int i = 0; i < 5; i++)\n",
    "    {\n",
    "        printf(\"%i\\n\", a[i]);\n",
    "    }\n",
    "}\n",
    "\n",
    "int main()\n",
    "{\n",
    "    int a[5] = {10, 20, 30, 40, 50};\n",
    "    printArray(a);    \n",
    "}"
   ]
  },
  {
   "cell_type": "markdown",
   "metadata": {},
   "source": [
    "Actually the compiler ignores the size of the array:"
   ]
  },
  {
   "cell_type": "code",
   "execution_count": null,
   "metadata": {},
   "outputs": [],
   "source": [
    "#include <stdio.h>\n",
    "\n",
    "void printArray(int a[])    // note no size is mentioned\n",
    "{\n",
    "    for(int i = 0; i < 5; i++)\n",
    "    {\n",
    "        printf(\"%i\\n\", a[i]);\n",
    "    }\n",
    "}\n",
    "\n",
    "int main()\n",
    "{\n",
    "    int a[5] = {10, 20, 30, 40, 50};\n",
    "    printArray(a);\n",
    "}"
   ]
  },
  {
   "cell_type": "markdown",
   "metadata": {},
   "source": [
    "And if we use pointer notation:"
   ]
  },
  {
   "cell_type": "code",
   "execution_count": null,
   "metadata": {},
   "outputs": [],
   "source": [
    "#include <stdio.h>\n",
    "\n",
    "void printArray(int* a)\n",
    "{\n",
    "    for(int i = 0; i < 5; i++)\n",
    "    {\n",
    "        printf(\"%i\\n\", a[i]);\n",
    "    }\n",
    "}\n",
    "\n",
    "int main()\n",
    "{\n",
    "    int a[5] = {10, 20, 30, 40, 50};\n",
    "    printArray(a);\n",
    "}"
   ]
  },
  {
   "cell_type": "markdown",
   "metadata": {},
   "source": [
    "Thus we conclude that in C, when we attempt to pass an array to a function, what actually gets passed is a pointer to the start of the array.  And it really is a pointer (l-value) and not a contant pointer.  \n",
    "Observe:"
   ]
  },
  {
   "cell_type": "code",
   "execution_count": null,
   "metadata": {},
   "outputs": [],
   "source": [
    "#include <stdio.h>\n",
    "\n",
    "void printArray(int* p)\n",
    "{\n",
    "    for(int i = 0; i < 5; i++)\n",
    "    {\n",
    "        printf(\"%i\\n\", p[i]);\n",
    "    }\n",
    "}\n",
    "\n",
    "int main()\n",
    "{\n",
    "    int a[5] = {10, 20, 30, 40, 50};\n",
    "    printArray(a);\n",
    "}"
   ]
  },
  {
   "cell_type": "markdown",
   "metadata": {},
   "source": [
    "Furthermore, the function has no idea how big an array is being passed.  It just has a pointer to the start of the array.  \n",
    "Check this out:"
   ]
  },
  {
   "cell_type": "code",
   "execution_count": null,
   "metadata": {},
   "outputs": [],
   "source": [
    "#include <stdio.h>\n",
    "\n",
    "void printArray(int* a)\n",
    "{\n",
    "    printf(\"%li\\n\", sizeof(a)/sizeof(int*));\n",
    "}\n",
    "\n",
    "int main()\n",
    "{\n",
    "    int a[5] = {10, 20, 30, 40, 50};\n",
    "    printf(\"%li\\n\", sizeof(a)/sizeof(int));\n",
    "    printArray(a);\n",
    "}"
   ]
  },
  {
   "cell_type": "markdown",
   "metadata": {},
   "source": [
    "This confirms the function only has knowledge of where the array starts in memory and a single `int*` has been passed as a parameter.  \n",
    "If we want the function to know the size of the array we must pass a second parameter:"
   ]
  },
  {
   "cell_type": "code",
   "execution_count": null,
   "metadata": {},
   "outputs": [],
   "source": [
    "#include <stdio.h>\n",
    "\n",
    "void printArray(int* p, int size)\n",
    "{\n",
    "    for(int i = 0; i < size; i++)\n",
    "    {\n",
    "        printf(\"%i\\n\", p[i]);\n",
    "    }\n",
    "}\n",
    "\n",
    "int main()\n",
    "{\n",
    "    int a[5] = {10, 20, 30, 40, 50};\n",
    "    printArray(a, 5);\n",
    "}"
   ]
  },
  {
   "cell_type": "markdown",
   "metadata": {},
   "source": [
    "Finally, note if we change the array in the function, the change is seen in the calling program:"
   ]
  },
  {
   "cell_type": "code",
   "execution_count": null,
   "metadata": {},
   "outputs": [],
   "source": [
    "#include <stdio.h>\n",
    "\n",
    "void doubleArray(int* p, int size)\n",
    "{\n",
    "    for(int i = 0; i < size; i++)\n",
    "    {\n",
    "        p[i] = 2 * p[i];    \n",
    "    }\n",
    "}\n",
    "\n",
    "int main()\n",
    "{\n",
    "    int a[5] = {10, 20, 30, 40, 50};\n",
    "    doubleArray(a, 5);\n",
    "    for(int i = 0; i < 5; i++)\n",
    "    {\n",
    "        printf(\"%i\\n\", a[i]);\n",
    "    }\n",
    "}"
   ]
  },
  {
   "cell_type": "markdown",
   "metadata": {},
   "source": [
    "## 5. Character Arrays and Character Pointers\n",
    "Take a look at a different way of declaring a character array:"
   ]
  },
  {
   "cell_type": "code",
   "execution_count": null,
   "metadata": {},
   "outputs": [],
   "source": [
    "#include <stdio.h>\n",
    "\n",
    "int main()\n",
    "{\n",
    "    char* h = \"Hello\";\n",
    "    char* w = \"World\";\n",
    "    printf(\"%s %s\\n\", h, w);\n",
    "}"
   ]
  },
  {
   "cell_type": "markdown",
   "metadata": {},
   "source": [
    "In the above, the character arrays are not stored on the stack, but the two pointers, `h` and `w` are stored on the stack.  In fact the two arrays `\"Hello\"` and `\"World\"` are stored in the static region of memory along with the program code.\n",
    "\n",
    "The static region only contains code and data that is immutable.  Therefore modern machines allocate read only memory to the static region.\n",
    "\n",
    "Therefore, if we try to modify these arrays, we will get a program crash:"
   ]
  },
  {
   "cell_type": "code",
   "execution_count": null,
   "metadata": {},
   "outputs": [],
   "source": [
    "#include <stdio.h>\n",
    "#include <string.h>\n",
    "\n",
    "int main()\n",
    "{\n",
    "    char* s = \"Hello\";\n",
    "    char* t = \"---\";\n",
    "    strcpy(s, t);\n",
    "}"
   ]
  }
 ],
 "metadata": {
  "kernelspec": {
   "display_name": "C",
   "language": "c",
   "name": "c"
  },
  "language_info": {
   "file_extension": ".c",
   "mimetype": "text/plain",
   "name": "c"
  }
 },
 "nbformat": 4,
 "nbformat_minor": 2
}
