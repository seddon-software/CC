{
 "cells": [
  {
   "cell_type": "markdown",
   "metadata": {},
   "source": [
    "<div style=\"color:red;background-color:black\">\n",
    "Diamond Light Source\n",
    "<br style=\"color:red;background-color:antiquewhite\"><h1>C Programming: Pointers</h1><br>\n",
    "©2000-21 Chris Seddon \n",
    "</div>"
   ]
  },
  {
   "cell_type": "markdown",
   "metadata": {},
   "source": [
    "To declare a pointer we use the * operator.  Thus:\n",
    "<pre>int* px;</pre>\n",
    "declares a pointer to an integer called px.  Once we have a pointer, we can point it at a particular integer by assigning the address of the variable:\n",
    "<pre>px = &x;</pre>\n",
    "Notice the two printf statements below.  \n",
    "We can see the value of x by printing either:\n",
    "`x` or `*px`\n",
    "We say `*px` is an alias for `x`."
   ]
  },
  {
   "cell_type": "code",
   "execution_count": null,
   "metadata": {},
   "outputs": [],
   "source": [
    "#include <stdio.h>\n",
    "\n",
    "int main()\n",
    "{\n",
    "    int x = 100;\n",
    "    int* px;\n",
    "    px = &x;\n",
    "    printf(\"%i\\n\", x);\n",
    "    printf(\"%i\\n\", *px);\n",
    "}"
   ]
  },
  {
   "cell_type": "markdown",
   "metadata": {},
   "source": [
    "In the above example it is important to realise that the `*` operator has different meanings, dependent on context.  When the `*` is used in a declaration, it defines a pointer, but when used in the code it dereferences the pointer (evaluates to the data at the end of the pointer).  \n",
    "Note that the compiler doesn't care about white space, so the declaration of the pointer can be written as either of:\n",
    "<pre>\n",
    "    int* px; or  \n",
    "    int *px;  \n",
    "</pre>\n",
    "Opions differ as to which is best.  \n",
    "I prefer the former because `int*` is the type of `px` and this form makes that clear.  Unfortunately, you can't write:\n",
    "<pre>    int* p1, p2;</pre>\n",
    "and expect to get two pointers.  The above is equivalent to:\n",
    "<pre>\n",
    "    int* p1;\n",
    "    int p2;\n",
    "</pre>\n",
    "so that `p2` is declared as an integer.  \n",
    "If you prefer putting the `*` with the type then you'll have to restrict declaring one pointer per statement.  If you prefer the other way of placing the `*` next to the variable, you can say:\n",
    "<pre>\n",
    "    int *p1, *p2;\n",
    "</pre>\n",
    "and it works as expected (two pointer declarations).  This can be illustrated as follows:"
   ]
  },
  {
   "cell_type": "code",
   "execution_count": null,
   "metadata": {},
   "outputs": [],
   "source": [
    "#include <stdio.h>\n",
    "\n",
    "int main()\n",
    "{\n",
    "    int x = 100;\n",
    "    int y = 200;\n",
    "    int *px, *py;\n",
    "    px = &x;\n",
    "    py = &y;\n",
    "    printf(\"%i %i\\n\", x, y);\n",
    "    printf(\"%i %i\\n\", *px, *py);\n",
    "}"
   ]
  },
  {
   "cell_type": "markdown",
   "metadata": {},
   "source": [
    "Problems arise when we initialise a pointer when it is declared.  We can write:\n",
    "<pre>int *px=&x, *py=&y;</pre>  \n",
    "However we can't say:\n",
    "<pre>\n",
    "*px = &x;\n",
    "*py = &y;\n",
    "</pre>  \n",
    "in the code.  That doesn't compile - very confusing:"
   ]
  },
  {
   "cell_type": "code",
   "execution_count": null,
   "metadata": {},
   "outputs": [],
   "source": [
    "#include <stdio.h>\n",
    "\n",
    "int main()\n",
    "{\n",
    "    int x = 100;\n",
    "    int y = 200;\n",
    "    int *px=&x, *py=&y;\n",
    "    printf(\"%i %i\\n\", x, y);\n",
    "    printf(\"%i %i\\n\", *px, *py);\n",
    "}"
   ]
  },
  {
   "cell_type": "markdown",
   "metadata": {},
   "source": [
    "In my IMHO the alternative notation makes things clearer.  Still you need to decide which you prefer.  \n",
    "\n",
    "Pointers can change their target:"
   ]
  },
  {
   "cell_type": "markdown",
   "metadata": {},
   "source": [
    "#include <stdio.h>\n",
    "\n",
    "int main()\n",
    "{\n",
    "    int x = 100;\n",
    "    int y = 200;\n",
    "    printf(\"%i %i\\n\", x, y);\n",
    "    int* ptr;\n",
    "    ptr = &x;\n",
    "    printf(\"%i\\n\", *ptr);\n",
    "    ptr = &y;\n",
    "    printf(\"%i\\n\", *ptr);\n",
    "}"
   ]
  },
  {
   "cell_type": "markdown",
   "metadata": {},
   "source": [
    "Recall in:\n",
    "<pre>\n",
    "    int x = 100;\n",
    "    int* px = &x;\n",
    "</pre>\n",
    "that *px is an alias for the target x.  Hence we can use *px and x interchangeably:"
   ]
  },
  {
   "cell_type": "code",
   "execution_count": null,
   "metadata": {},
   "outputs": [],
   "source": [
    "#include <stdio.h>\n",
    "\n",
    "int main()\n",
    "{\n",
    "    int x = 100;\n",
    "    int* px = &x;\n",
    "\n",
    "    // using x\n",
    "    printf(\"%i\\n\", *px);\n",
    "    x = x + 10;\n",
    "    \n",
    "    // using *px\n",
    "    printf(\"%i\\n\", x);\n",
    "    *px = *px + 10;\n",
    "    printf(\"%i\\n\", x);\n",
    "}"
   ]
  },
  {
   "cell_type": "markdown",
   "metadata": {},
   "source": [
    "Pointers can only bind to one type.  You can have a pointer to an int `(int *)` or double `(double *)` or to any other type.  However, you can change types.  The following won't work:"
   ]
  },
  {
   "cell_type": "code",
   "execution_count": null,
   "metadata": {
    "scrolled": true
   },
   "outputs": [],
   "source": [
    "#include <stdio.h>\n",
    "\n",
    "int main()\n",
    "{\n",
    "    int x = 100;\n",
    "    double y = 27.93;\n",
    "    int* px;    // px can only point at integers\n",
    "\n",
    "    px = &x;\n",
    "    printf(\"%i\\n\", *px);\n",
    "\n",
    "    px = &y;\n",
    "    printf(\"%i\\n\", *px);\n",
    "    printf(\"%lf\\n\", *px);  // lf required for doubles\n",
    "}"
   ]
  },
  {
   "cell_type": "markdown",
   "metadata": {},
   "source": [
    "To correct this we need separate pointers for each type:"
   ]
  },
  {
   "cell_type": "code",
   "execution_count": null,
   "metadata": {},
   "outputs": [],
   "source": [
    "#include <stdio.h>\n",
    "\n",
    "int main()\n",
    "{\n",
    "    int x = 100;\n",
    "    double y = 27.93;\n",
    "    int* px;    // px can only point at integers\n",
    "    double* py; // py can only point at doubles\n",
    "    \n",
    "    px = &x;\n",
    "    py = &y;\n",
    "    printf(\"%i\\n\", *px);\n",
    "    printf(\"%lf\\n\", *py);  // lf required for doubles\n",
    "}"
   ]
  },
  {
   "cell_type": "markdown",
   "metadata": {},
   "source": [
    "Pointers are often used when passing data to a function.  Consider the following example that does not use pointers:"
   ]
  },
  {
   "cell_type": "code",
   "execution_count": null,
   "metadata": {},
   "outputs": [],
   "source": [
    "#include <stdio.h>\n",
    "\n",
    "void doubleBoth(int x, int y)\n",
    "{\n",
    "    x = x * 2;\n",
    "    y = y * 2;\n",
    "}\n",
    "\n",
    "int main()\n",
    "{\n",
    "    int x = 100;\n",
    "    int y = 150;\n",
    "    doubleBoth(x, y);\n",
    "    printf(\"%i %i\\n\", x, y);\n",
    "}"
   ]
  },
  {
   "cell_type": "markdown",
   "metadata": {},
   "source": [
    "In C, parameters are passed to functions by <b>copy</b>.  Thus in the above example we are doubling a <em>copy of x</em> and a <em>copy of y</em>.  Importantly, this means the original x and y are left unchanged.  \n",
    "\n",
    "To fix this we need to pass pointers.  When a pointer is passed to a function we still pass a copy of the pointer, but note that the original pointer and its copy contain the same address and therefore both point to the <em>same</em> piece of data.  \n",
    "\n",
    "So in the following example we pass pointers to both x and y to get things to work."
   ]
  },
  {
   "cell_type": "code",
   "execution_count": null,
   "metadata": {},
   "outputs": [],
   "source": [
    "#include <stdio.h>\n",
    "\n",
    "void doubleBoth(int* px, int* py)\n",
    "{\n",
    "    *px = *px * 2;\n",
    "    *py = *py * 2;\n",
    "}\n",
    "\n",
    "int main()\n",
    "{\n",
    "    int x = 100;\n",
    "    int y = 150;\n",
    "    doubleBoth(&x, &y);\n",
    "    printf(\"%i %i\\n\", x, y);\n",
    "}"
   ]
  },
  {
   "cell_type": "markdown",
   "metadata": {},
   "source": [
    "As another example of this technique, we can use pointers to swap x and y.  Here's the code without using pointers (doesn't swap):"
   ]
  },
  {
   "cell_type": "code",
   "execution_count": null,
   "metadata": {},
   "outputs": [],
   "source": [
    "#include <stdio.h>\n",
    "\n",
    "void swap(int x, int y)\n",
    "{\n",
    "    int temp;\n",
    "    temp = x;\n",
    "    x = y;\n",
    "    y = temp;\n",
    "}\n",
    "\n",
    "int main()\n",
    "{\n",
    "    int x = 100;\n",
    "    int y = 150;\n",
    "    swap(x, y);\n",
    "    printf(\"%i %i\\n\", x, y);\n",
    "}"
   ]
  },
  {
   "cell_type": "markdown",
   "metadata": {},
   "source": [
    "Below is the pointer version that works.  \n",
    "Note the use of  \n",
    "<pre>\n",
    "*px as an alias of x\n",
    "*py as an alias of y\n",
    "</pre>\n",
    "Notice too that we use `&x` and `&y` in the call to swap.  This is analogous to our earlier examples where we wrote\n",
    "<pre>\n",
    "int* px;\n",
    "px = &x;\n",
    "</pre>"
   ]
  },
  {
   "cell_type": "code",
   "execution_count": null,
   "metadata": {},
   "outputs": [],
   "source": [
    "#include <stdio.h>\n",
    "\n",
    "void swap(int* px, int* py)\n",
    "{\n",
    "    int temp;\n",
    "    temp = *px;\n",
    "    *px = *py;\n",
    "    *py = temp;\n",
    "}\n",
    "\n",
    "int main()\n",
    "{\n",
    "    int x = 100;\n",
    "    int y = 150;\n",
    "    swap(&x, &y);\n",
    "    printf(\"%i %i\\n\", x, y);\n",
    "}"
   ]
  },
  {
   "cell_type": "markdown",
   "metadata": {},
   "source": [
    "The above examples illustrate simple pointers defined with a single asterisk.  These are called level 1 pointers.  However, in C we can define pointers of any level.  Let's take a look at a level 2 pointer:"
   ]
  },
  {
   "cell_type": "code",
   "execution_count": null,
   "metadata": {},
   "outputs": [],
   "source": [
    "int main()\n",
    "{\n",
    "    int** ptr;\n",
    "}"
   ]
  },
  {
   "cell_type": "markdown",
   "metadata": {},
   "source": [
    "The above pointer is declared with two asterisks.  Level 2 pointers are used to point at level 1 pointers.  We say `ptr` is a pointer to a pointer.\n",
    "\n",
    "Let's see a simple example:"
   ]
  },
  {
   "cell_type": "code",
   "execution_count": null,
   "metadata": {},
   "outputs": [],
   "source": [
    "#include <stdio.h>\n",
    "\n",
    "int main()\n",
    "{\n",
    "    int x = 100;\n",
    "    int* px;\n",
    "    int** ptr;\n",
    "    \n",
    "    px = &x;    // px points at x\n",
    "    ptr = &px;  // ptr points at px which in turn points at x\n",
    "}"
   ]
  },
  {
   "cell_type": "markdown",
   "metadata": {},
   "source": [
    "Now recall that\n",
    "<pre>\n",
    "*px is an alias for x\n",
    "</pre>\n",
    "and hence:\n",
    "<pre>\n",
    "*ptr is an alias for px\n",
    "</pre>\n",
    "and therefore it follows that:\n",
    "<pre>\n",
    "**ptr is an alias for *px\n",
    "</pre>\n",
    "We can use these aliases to print out the value of x in 3 different ways:"
   ]
  },
  {
   "cell_type": "code",
   "execution_count": null,
   "metadata": {},
   "outputs": [],
   "source": [
    "#include <stdio.h>\n",
    "\n",
    "int main()\n",
    "{\n",
    "    int x = 100;\n",
    "    int* px;\n",
    "    int** ptr;\n",
    "    \n",
    "    px = &x;    // px points at x\n",
    "    ptr = &px;  // ptr points at px which in turn points at x\n",
    "\n",
    "    printf(\"%i\\n\", x);\n",
    "    printf(\"%i\\n\", *px);\n",
    "    printf(\"%i\\n\", **ptr);\n",
    "}"
   ]
  }
 ],
 "metadata": {
  "kernelspec": {
   "display_name": "C",
   "language": "c",
   "name": "c"
  },
  "language_info": {
   "file_extension": ".c",
   "mimetype": "text/plain",
   "name": "c"
  }
 },
 "nbformat": 4,
 "nbformat_minor": 2
}
